{
 "cells": [
  {
   "cell_type": "markdown",
   "metadata": {
    "id": "7vANtJs1n92G"
   },
   "source": [
    "# EMG Signal for gesture recognition"
   ]
  },
  {
   "cell_type": "code",
   "execution_count": 1,
   "metadata": {
    "id": "LhFOScPZS5iR"
   },
   "outputs": [
    {
     "name": "stdout",
     "output_type": "stream",
     "text": [
      "5\n"
     ]
    }
   ],
   "source": [
    "import pandas as pd\n",
    "import tensorflow as tf\n",
    "import matplotlib.pyplot as plt\n",
    "import numpy as np\n",
    "print(5)"
   ]
  },
  {
   "cell_type": "code",
   "execution_count": null,
   "metadata": {},
   "outputs": [],
   "source": [
    "import os\n",
    "for dirname, _, filenames in os.walk('/kaggle/input'):\n",
    "    for filename in filenames:\n",
    "        print(os.path.join(dirname, filename))"
   ]
  },
  {
   "cell_type": "code",
   "execution_count": 3,
   "metadata": {},
   "outputs": [
    {
     "name": "stdout",
     "output_type": "stream",
     "text": [
      "(4237907, 11)\n"
     ]
    },
    {
     "data": {
      "text/html": [
       "<div>\n",
       "<style scoped>\n",
       "    .dataframe tbody tr th:only-of-type {\n",
       "        vertical-align: middle;\n",
       "    }\n",
       "\n",
       "    .dataframe tbody tr th {\n",
       "        vertical-align: top;\n",
       "    }\n",
       "\n",
       "    .dataframe thead th {\n",
       "        text-align: right;\n",
       "    }\n",
       "</style>\n",
       "<table border=\"1\" class=\"dataframe\">\n",
       "  <thead>\n",
       "    <tr style=\"text-align: right;\">\n",
       "      <th></th>\n",
       "      <th>time</th>\n",
       "      <th>channel1</th>\n",
       "      <th>channel2</th>\n",
       "      <th>channel3</th>\n",
       "      <th>channel4</th>\n",
       "      <th>channel5</th>\n",
       "      <th>channel6</th>\n",
       "      <th>channel7</th>\n",
       "      <th>channel8</th>\n",
       "      <th>class</th>\n",
       "      <th>label</th>\n",
       "    </tr>\n",
       "  </thead>\n",
       "  <tbody>\n",
       "    <tr>\n",
       "      <th>0</th>\n",
       "      <td>1</td>\n",
       "      <td>0.00001</td>\n",
       "      <td>-0.00002</td>\n",
       "      <td>-0.00001</td>\n",
       "      <td>-0.00003</td>\n",
       "      <td>0.00000</td>\n",
       "      <td>-0.00001</td>\n",
       "      <td>0.00000</td>\n",
       "      <td>-0.00001</td>\n",
       "      <td>0</td>\n",
       "      <td>1</td>\n",
       "    </tr>\n",
       "    <tr>\n",
       "      <th>1</th>\n",
       "      <td>5</td>\n",
       "      <td>0.00001</td>\n",
       "      <td>-0.00002</td>\n",
       "      <td>-0.00001</td>\n",
       "      <td>-0.00003</td>\n",
       "      <td>0.00000</td>\n",
       "      <td>-0.00001</td>\n",
       "      <td>0.00000</td>\n",
       "      <td>-0.00001</td>\n",
       "      <td>0</td>\n",
       "      <td>1</td>\n",
       "    </tr>\n",
       "    <tr>\n",
       "      <th>2</th>\n",
       "      <td>6</td>\n",
       "      <td>-0.00001</td>\n",
       "      <td>0.00001</td>\n",
       "      <td>0.00002</td>\n",
       "      <td>0.00000</td>\n",
       "      <td>0.00001</td>\n",
       "      <td>-0.00002</td>\n",
       "      <td>-0.00001</td>\n",
       "      <td>0.00001</td>\n",
       "      <td>0</td>\n",
       "      <td>1</td>\n",
       "    </tr>\n",
       "    <tr>\n",
       "      <th>3</th>\n",
       "      <td>7</td>\n",
       "      <td>-0.00001</td>\n",
       "      <td>0.00001</td>\n",
       "      <td>0.00002</td>\n",
       "      <td>0.00000</td>\n",
       "      <td>0.00001</td>\n",
       "      <td>-0.00002</td>\n",
       "      <td>-0.00001</td>\n",
       "      <td>0.00001</td>\n",
       "      <td>0</td>\n",
       "      <td>1</td>\n",
       "    </tr>\n",
       "    <tr>\n",
       "      <th>4</th>\n",
       "      <td>8</td>\n",
       "      <td>-0.00001</td>\n",
       "      <td>0.00001</td>\n",
       "      <td>0.00002</td>\n",
       "      <td>0.00000</td>\n",
       "      <td>0.00001</td>\n",
       "      <td>-0.00002</td>\n",
       "      <td>-0.00001</td>\n",
       "      <td>0.00001</td>\n",
       "      <td>0</td>\n",
       "      <td>1</td>\n",
       "    </tr>\n",
       "    <tr>\n",
       "      <th>...</th>\n",
       "      <td>...</td>\n",
       "      <td>...</td>\n",
       "      <td>...</td>\n",
       "      <td>...</td>\n",
       "      <td>...</td>\n",
       "      <td>...</td>\n",
       "      <td>...</td>\n",
       "      <td>...</td>\n",
       "      <td>...</td>\n",
       "      <td>...</td>\n",
       "      <td>...</td>\n",
       "    </tr>\n",
       "    <tr>\n",
       "      <th>4237902</th>\n",
       "      <td>50962</td>\n",
       "      <td>0.00001</td>\n",
       "      <td>-0.00001</td>\n",
       "      <td>-0.00002</td>\n",
       "      <td>-0.00004</td>\n",
       "      <td>-0.00012</td>\n",
       "      <td>0.00000</td>\n",
       "      <td>0.00002</td>\n",
       "      <td>0.00002</td>\n",
       "      <td>0</td>\n",
       "      <td>36</td>\n",
       "    </tr>\n",
       "    <tr>\n",
       "      <th>4237903</th>\n",
       "      <td>50963</td>\n",
       "      <td>0.00001</td>\n",
       "      <td>-0.00001</td>\n",
       "      <td>-0.00002</td>\n",
       "      <td>-0.00004</td>\n",
       "      <td>-0.00012</td>\n",
       "      <td>0.00000</td>\n",
       "      <td>0.00002</td>\n",
       "      <td>0.00002</td>\n",
       "      <td>0</td>\n",
       "      <td>36</td>\n",
       "    </tr>\n",
       "    <tr>\n",
       "      <th>4237904</th>\n",
       "      <td>50964</td>\n",
       "      <td>0.00001</td>\n",
       "      <td>-0.00001</td>\n",
       "      <td>-0.00002</td>\n",
       "      <td>-0.00004</td>\n",
       "      <td>-0.00012</td>\n",
       "      <td>0.00000</td>\n",
       "      <td>0.00002</td>\n",
       "      <td>0.00002</td>\n",
       "      <td>0</td>\n",
       "      <td>36</td>\n",
       "    </tr>\n",
       "    <tr>\n",
       "      <th>4237905</th>\n",
       "      <td>50965</td>\n",
       "      <td>0.00001</td>\n",
       "      <td>-0.00001</td>\n",
       "      <td>-0.00002</td>\n",
       "      <td>-0.00004</td>\n",
       "      <td>-0.00012</td>\n",
       "      <td>0.00000</td>\n",
       "      <td>0.00002</td>\n",
       "      <td>0.00002</td>\n",
       "      <td>0</td>\n",
       "      <td>36</td>\n",
       "    </tr>\n",
       "    <tr>\n",
       "      <th>4237906</th>\n",
       "      <td>50966</td>\n",
       "      <td>0.00001</td>\n",
       "      <td>-0.00001</td>\n",
       "      <td>-0.00002</td>\n",
       "      <td>-0.00004</td>\n",
       "      <td>-0.00012</td>\n",
       "      <td>0.00000</td>\n",
       "      <td>0.00002</td>\n",
       "      <td>0.00002</td>\n",
       "      <td>0</td>\n",
       "      <td>36</td>\n",
       "    </tr>\n",
       "  </tbody>\n",
       "</table>\n",
       "<p>4237907 rows × 11 columns</p>\n",
       "</div>"
      ],
      "text/plain": [
       "          time  channel1  channel2  channel3  channel4  channel5  channel6  \\\n",
       "0            1   0.00001  -0.00002  -0.00001  -0.00003   0.00000  -0.00001   \n",
       "1            5   0.00001  -0.00002  -0.00001  -0.00003   0.00000  -0.00001   \n",
       "2            6  -0.00001   0.00001   0.00002   0.00000   0.00001  -0.00002   \n",
       "3            7  -0.00001   0.00001   0.00002   0.00000   0.00001  -0.00002   \n",
       "4            8  -0.00001   0.00001   0.00002   0.00000   0.00001  -0.00002   \n",
       "...        ...       ...       ...       ...       ...       ...       ...   \n",
       "4237902  50962   0.00001  -0.00001  -0.00002  -0.00004  -0.00012   0.00000   \n",
       "4237903  50963   0.00001  -0.00001  -0.00002  -0.00004  -0.00012   0.00000   \n",
       "4237904  50964   0.00001  -0.00001  -0.00002  -0.00004  -0.00012   0.00000   \n",
       "4237905  50965   0.00001  -0.00001  -0.00002  -0.00004  -0.00012   0.00000   \n",
       "4237906  50966   0.00001  -0.00001  -0.00002  -0.00004  -0.00012   0.00000   \n",
       "\n",
       "         channel7  channel8  class  label  \n",
       "0         0.00000  -0.00001      0      1  \n",
       "1         0.00000  -0.00001      0      1  \n",
       "2        -0.00001   0.00001      0      1  \n",
       "3        -0.00001   0.00001      0      1  \n",
       "4        -0.00001   0.00001      0      1  \n",
       "...           ...       ...    ...    ...  \n",
       "4237902   0.00002   0.00002      0     36  \n",
       "4237903   0.00002   0.00002      0     36  \n",
       "4237904   0.00002   0.00002      0     36  \n",
       "4237905   0.00002   0.00002      0     36  \n",
       "4237906   0.00002   0.00002      0     36  \n",
       "\n",
       "[4237907 rows x 11 columns]"
      ]
     },
     "execution_count": 3,
     "metadata": {},
     "output_type": "execute_result"
    }
   ],
   "source": [
    "import pandas as pd\n",
    "Input_path = 'D:\\\\EMG-data\\\\EMG-data.csv'\n",
    "df = pd.read_csv(Input_path)\n",
    "\n",
    "print(df.shape)\n",
    "df"
   ]
  },
  {
   "cell_type": "code",
   "execution_count": 4,
   "metadata": {
    "id": "0EKLGPduSQ7F",
    "outputId": "04586f56-c508-4d5d-88d9-ab88b8b2b6c0"
   },
   "outputs": [
    {
     "name": "stdout",
     "output_type": "stream",
     "text": [
      "class : [0 1 2 3 4 5 6 7]\n",
      "\n",
      "Value Count :\n",
      " class\n",
      "0    2725157\n",
      "6     253009\n",
      "5     251733\n",
      "4     251570\n",
      "1     250055\n",
      "3     249494\n",
      "2     243193\n",
      "7      13696\n",
      "Name: count, dtype: int64\n"
     ]
    }
   ],
   "source": [
    "print(\"class :\", df[\"class\"].unique())\n",
    "print()\n",
    "#print(\"Labels :\",df[\"label\"].unique()) # 36 people hand gesture data\n",
    "#print()\n",
    "print(\"Value Count :\\n\",df[\"class\"].value_counts())"
   ]
  },
  {
   "cell_type": "code",
   "execution_count": 5,
   "metadata": {
    "id": "2n0TlXtqSa2l",
    "outputId": "a412562a-5a6e-4aac-b658-c7ff245ad87a"
   },
   "outputs": [
    {
     "data": {
      "text/html": [
       "<div>\n",
       "<style scoped>\n",
       "    .dataframe tbody tr th:only-of-type {\n",
       "        vertical-align: middle;\n",
       "    }\n",
       "\n",
       "    .dataframe tbody tr th {\n",
       "        vertical-align: top;\n",
       "    }\n",
       "\n",
       "    .dataframe thead th {\n",
       "        text-align: right;\n",
       "    }\n",
       "</style>\n",
       "<table border=\"1\" class=\"dataframe\">\n",
       "  <thead>\n",
       "    <tr style=\"text-align: right;\">\n",
       "      <th></th>\n",
       "      <th>channel1</th>\n",
       "      <th>channel2</th>\n",
       "      <th>channel3</th>\n",
       "      <th>channel4</th>\n",
       "      <th>channel5</th>\n",
       "      <th>channel6</th>\n",
       "      <th>channel7</th>\n",
       "      <th>channel8</th>\n",
       "    </tr>\n",
       "  </thead>\n",
       "  <tbody>\n",
       "    <tr>\n",
       "      <th>0</th>\n",
       "      <td>0.00001</td>\n",
       "      <td>-0.00002</td>\n",
       "      <td>-0.00001</td>\n",
       "      <td>-0.00003</td>\n",
       "      <td>0.00000</td>\n",
       "      <td>-0.00001</td>\n",
       "      <td>0.00000</td>\n",
       "      <td>-0.00001</td>\n",
       "    </tr>\n",
       "    <tr>\n",
       "      <th>1</th>\n",
       "      <td>0.00001</td>\n",
       "      <td>-0.00002</td>\n",
       "      <td>-0.00001</td>\n",
       "      <td>-0.00003</td>\n",
       "      <td>0.00000</td>\n",
       "      <td>-0.00001</td>\n",
       "      <td>0.00000</td>\n",
       "      <td>-0.00001</td>\n",
       "    </tr>\n",
       "    <tr>\n",
       "      <th>2</th>\n",
       "      <td>-0.00001</td>\n",
       "      <td>0.00001</td>\n",
       "      <td>0.00002</td>\n",
       "      <td>0.00000</td>\n",
       "      <td>0.00001</td>\n",
       "      <td>-0.00002</td>\n",
       "      <td>-0.00001</td>\n",
       "      <td>0.00001</td>\n",
       "    </tr>\n",
       "    <tr>\n",
       "      <th>3</th>\n",
       "      <td>-0.00001</td>\n",
       "      <td>0.00001</td>\n",
       "      <td>0.00002</td>\n",
       "      <td>0.00000</td>\n",
       "      <td>0.00001</td>\n",
       "      <td>-0.00002</td>\n",
       "      <td>-0.00001</td>\n",
       "      <td>0.00001</td>\n",
       "    </tr>\n",
       "    <tr>\n",
       "      <th>4</th>\n",
       "      <td>-0.00001</td>\n",
       "      <td>0.00001</td>\n",
       "      <td>0.00002</td>\n",
       "      <td>0.00000</td>\n",
       "      <td>0.00001</td>\n",
       "      <td>-0.00002</td>\n",
       "      <td>-0.00001</td>\n",
       "      <td>0.00001</td>\n",
       "    </tr>\n",
       "  </tbody>\n",
       "</table>\n",
       "</div>"
      ],
      "text/plain": [
       "   channel1  channel2  channel3  channel4  channel5  channel6  channel7  \\\n",
       "0   0.00001  -0.00002  -0.00001  -0.00003   0.00000  -0.00001   0.00000   \n",
       "1   0.00001  -0.00002  -0.00001  -0.00003   0.00000  -0.00001   0.00000   \n",
       "2  -0.00001   0.00001   0.00002   0.00000   0.00001  -0.00002  -0.00001   \n",
       "3  -0.00001   0.00001   0.00002   0.00000   0.00001  -0.00002  -0.00001   \n",
       "4  -0.00001   0.00001   0.00002   0.00000   0.00001  -0.00002  -0.00001   \n",
       "\n",
       "   channel8  \n",
       "0  -0.00001  \n",
       "1  -0.00001  \n",
       "2   0.00001  \n",
       "3   0.00001  \n",
       "4   0.00001  "
      ]
     },
     "metadata": {},
     "output_type": "display_data"
    }
   ],
   "source": [
    "features = df.drop(columns=[\"label\",\"class\",\"time\"])\n",
    "display(features.head())\n",
    "#print(features.shape())"
   ]
  },
  {
   "cell_type": "code",
   "execution_count": 6,
   "metadata": {
    "id": "tLWCMkXASd_K",
    "outputId": "99bdadff-2551-43f4-fe93-5a6d2ee30dbb"
   },
   "outputs": [
    {
     "name": "stdout",
     "output_type": "stream",
     "text": [
      "[0 1 2 3 4 5 6 7]\n"
     ]
    }
   ],
   "source": [
    "Class = df[\"class\"]\n",
    "print(Class.unique())\n",
    "#print(Class.shape())"
   ]
  },
  {
   "cell_type": "code",
   "execution_count": 7,
   "metadata": {
    "id": "nZM3B29xSl8s",
    "outputId": "62a2f6ac-0a6a-4d29-9da4-ee9aa24cd6d9"
   },
   "outputs": [
    {
     "name": "stdout",
     "output_type": "stream",
     "text": [
      "<class 'pandas.core.series.Series'>\n",
      "<class 'pandas.core.frame.DataFrame'>\n",
      "<class 'numpy.ndarray'>\n",
      "<class 'numpy.ndarray'>\n"
     ]
    }
   ],
   "source": [
    "print(type(Class))\n",
    "print(type(features))\n",
    "\n",
    "Class = Class.values\n",
    "features = features.values\n",
    "\n",
    "print(type(Class))\n",
    "print(type(features))"
   ]
  },
  {
   "cell_type": "code",
   "execution_count": 8,
   "metadata": {
    "id": "MNT9FvwxSoGq"
   },
   "outputs": [],
   "source": [
    "# split in training 70%, validation 10 %,  test 20% test \n",
    "from sklearn.model_selection import train_test_split\n",
    "# 80 and 20\n",
    "x_train, x_test, y_train, y_test = train_test_split(features, Class, test_size=0.2, random_state=1)"
   ]
  },
  {
   "cell_type": "code",
   "execution_count": 9,
   "metadata": {},
   "outputs": [
    {
     "data": {
      "text/plain": [
       "array([-5.0e-05,  4.0e-05, -1.9e-04, -5.7e-04, -1.2e-04,  4.0e-05,\n",
       "       -1.0e-05, -3.0e-05])"
      ]
     },
     "execution_count": 9,
     "metadata": {},
     "output_type": "execute_result"
    }
   ],
   "source": [
    "x_train[0]"
   ]
  },
  {
   "cell_type": "code",
   "execution_count": 10,
   "metadata": {
    "id": "kMAmEaHPSrSR"
   },
   "outputs": [],
   "source": [
    "# Normalizing data\n",
    "mean = x_train.mean(axis=0)\n",
    "std = x_train.std(axis=0)\n",
    "\n",
    "x_train -= mean\n",
    "x_train /= std\n",
    "\n",
    "x_test -= mean\n",
    "x_test /= std"
   ]
  },
  {
   "cell_type": "code",
   "execution_count": 11,
   "metadata": {
    "id": "3WpOpN9CSwc6"
   },
   "outputs": [],
   "source": [
    "# one hot encoding Labels\n",
    "y_train = tf.keras.utils.to_categorical(y_train)\n",
    "y_test = tf.keras.utils.to_categorical(y_test)"
   ]
  },
  {
   "cell_type": "code",
   "execution_count": 12,
   "metadata": {
    "id": "YqNtIiv0SxvD"
   },
   "outputs": [],
   "source": [
    "# creating a function for plotting\n",
    "\n",
    "def plot(loss,val_loss,acc,val_acc):\n",
    "    loss = history.history['loss']\n",
    "    val_loss = history.history['val_loss']\n",
    "\n",
    "    epochs = range(1, len(loss) + 1)\n",
    "\n",
    "    plt.plot(epochs, loss, 'bo', label='Training loss')\n",
    "    plt.plot(epochs, val_loss, 'b', label='Validation loss')\n",
    "    plt.title('Training and validation loss')\n",
    "    plt.xlabel('Epochs')\n",
    "    plt.ylabel('Loss')\n",
    "    plt.legend()\n",
    "    plt.show()\n",
    "\n",
    "    acc = history.history['accuracy']\n",
    "    val_acc = history.history['val_accuracy']\n",
    "\n",
    "    epochs = range(1, len(acc) + 1)\n",
    "\n",
    "    plt.plot(epochs, acc, 'bo', label='Training acc')\n",
    "    plt.plot(epochs, val_acc, 'b', label='Validation acc')\n",
    "    plt.title('Training and validation acc')\n",
    "    plt.xlabel('Epochs')\n",
    "    plt.ylabel('acc')\n",
    "    plt.legend()\n",
    "    plt.show()"
   ]
  },
  {
   "cell_type": "code",
   "execution_count": null,
   "metadata": {
    "id": "TtML1XBxjwHM"
   },
   "outputs": [],
   "source": [
    "#################################"
   ]
  },
  {
   "cell_type": "code",
   "execution_count": 15,
   "metadata": {
    "id": "whhF7VhOkUjV"
   },
   "outputs": [
    {
     "data": {
      "text/html": [
       "<pre style=\"white-space:pre;overflow-x:auto;line-height:normal;font-family:Menlo,'DejaVu Sans Mono',consolas,'Courier New',monospace\"><span style=\"font-weight: bold\">Model: \"functional_2\"</span>\n",
       "</pre>\n"
      ],
      "text/plain": [
       "\u001b[1mModel: \"functional_2\"\u001b[0m\n"
      ]
     },
     "metadata": {},
     "output_type": "display_data"
    },
    {
     "data": {
      "text/html": [
       "<pre style=\"white-space:pre;overflow-x:auto;line-height:normal;font-family:Menlo,'DejaVu Sans Mono',consolas,'Courier New',monospace\">┏━━━━━━━━━━━━━━━━━━━━━━━━━━━━━━━━━━━━━━┳━━━━━━━━━━━━━━━━━━━━━━━━━━━━━┳━━━━━━━━━━━━━━━━━┓\n",
       "┃<span style=\"font-weight: bold\"> Layer (type)                         </span>┃<span style=\"font-weight: bold\"> Output Shape                </span>┃<span style=\"font-weight: bold\">         Param # </span>┃\n",
       "┡━━━━━━━━━━━━━━━━━━━━━━━━━━━━━━━━━━━━━━╇━━━━━━━━━━━━━━━━━━━━━━━━━━━━━╇━━━━━━━━━━━━━━━━━┩\n",
       "│ input_layer_2 (<span style=\"color: #0087ff; text-decoration-color: #0087ff\">InputLayer</span>)           │ (<span style=\"color: #00d7ff; text-decoration-color: #00d7ff\">None</span>, <span style=\"color: #00af00; text-decoration-color: #00af00\">8</span>)                   │               <span style=\"color: #00af00; text-decoration-color: #00af00\">0</span> │\n",
       "├──────────────────────────────────────┼─────────────────────────────┼─────────────────┤\n",
       "│ dense_20 (<span style=\"color: #0087ff; text-decoration-color: #0087ff\">Dense</span>)                     │ (<span style=\"color: #00d7ff; text-decoration-color: #00d7ff\">None</span>, <span style=\"color: #00af00; text-decoration-color: #00af00\">1024</span>)                │           <span style=\"color: #00af00; text-decoration-color: #00af00\">9,216</span> │\n",
       "├──────────────────────────────────────┼─────────────────────────────┼─────────────────┤\n",
       "│ dense_21 (<span style=\"color: #0087ff; text-decoration-color: #0087ff\">Dense</span>)                     │ (<span style=\"color: #00d7ff; text-decoration-color: #00d7ff\">None</span>, <span style=\"color: #00af00; text-decoration-color: #00af00\">512</span>)                 │         <span style=\"color: #00af00; text-decoration-color: #00af00\">524,800</span> │\n",
       "├──────────────────────────────────────┼─────────────────────────────┼─────────────────┤\n",
       "│ dense_26 (<span style=\"color: #0087ff; text-decoration-color: #0087ff\">Dense</span>)                     │ (<span style=\"color: #00d7ff; text-decoration-color: #00d7ff\">None</span>, <span style=\"color: #00af00; text-decoration-color: #00af00\">128</span>)                 │          <span style=\"color: #00af00; text-decoration-color: #00af00\">65,664</span> │\n",
       "├──────────────────────────────────────┼─────────────────────────────┼─────────────────┤\n",
       "│ dense_27 (<span style=\"color: #0087ff; text-decoration-color: #0087ff\">Dense</span>)                     │ (<span style=\"color: #00d7ff; text-decoration-color: #00d7ff\">None</span>, <span style=\"color: #00af00; text-decoration-color: #00af00\">64</span>)                  │           <span style=\"color: #00af00; text-decoration-color: #00af00\">8,256</span> │\n",
       "├──────────────────────────────────────┼─────────────────────────────┼─────────────────┤\n",
       "│ dense_28 (<span style=\"color: #0087ff; text-decoration-color: #0087ff\">Dense</span>)                     │ (<span style=\"color: #00d7ff; text-decoration-color: #00d7ff\">None</span>, <span style=\"color: #00af00; text-decoration-color: #00af00\">32</span>)                  │           <span style=\"color: #00af00; text-decoration-color: #00af00\">2,080</span> │\n",
       "├──────────────────────────────────────┼─────────────────────────────┼─────────────────┤\n",
       "│ dense_29 (<span style=\"color: #0087ff; text-decoration-color: #0087ff\">Dense</span>)                     │ (<span style=\"color: #00d7ff; text-decoration-color: #00d7ff\">None</span>, <span style=\"color: #00af00; text-decoration-color: #00af00\">8</span>)                   │             <span style=\"color: #00af00; text-decoration-color: #00af00\">264</span> │\n",
       "└──────────────────────────────────────┴─────────────────────────────┴─────────────────┘\n",
       "</pre>\n"
      ],
      "text/plain": [
       "┏━━━━━━━━━━━━━━━━━━━━━━━━━━━━━━━━━━━━━━┳━━━━━━━━━━━━━━━━━━━━━━━━━━━━━┳━━━━━━━━━━━━━━━━━┓\n",
       "┃\u001b[1m \u001b[0m\u001b[1mLayer (type)                        \u001b[0m\u001b[1m \u001b[0m┃\u001b[1m \u001b[0m\u001b[1mOutput Shape               \u001b[0m\u001b[1m \u001b[0m┃\u001b[1m \u001b[0m\u001b[1m        Param #\u001b[0m\u001b[1m \u001b[0m┃\n",
       "┡━━━━━━━━━━━━━━━━━━━━━━━━━━━━━━━━━━━━━━╇━━━━━━━━━━━━━━━━━━━━━━━━━━━━━╇━━━━━━━━━━━━━━━━━┩\n",
       "│ input_layer_2 (\u001b[38;5;33mInputLayer\u001b[0m)           │ (\u001b[38;5;45mNone\u001b[0m, \u001b[38;5;34m8\u001b[0m)                   │               \u001b[38;5;34m0\u001b[0m │\n",
       "├──────────────────────────────────────┼─────────────────────────────┼─────────────────┤\n",
       "│ dense_20 (\u001b[38;5;33mDense\u001b[0m)                     │ (\u001b[38;5;45mNone\u001b[0m, \u001b[38;5;34m1024\u001b[0m)                │           \u001b[38;5;34m9,216\u001b[0m │\n",
       "├──────────────────────────────────────┼─────────────────────────────┼─────────────────┤\n",
       "│ dense_21 (\u001b[38;5;33mDense\u001b[0m)                     │ (\u001b[38;5;45mNone\u001b[0m, \u001b[38;5;34m512\u001b[0m)                 │         \u001b[38;5;34m524,800\u001b[0m │\n",
       "├──────────────────────────────────────┼─────────────────────────────┼─────────────────┤\n",
       "│ dense_26 (\u001b[38;5;33mDense\u001b[0m)                     │ (\u001b[38;5;45mNone\u001b[0m, \u001b[38;5;34m128\u001b[0m)                 │          \u001b[38;5;34m65,664\u001b[0m │\n",
       "├──────────────────────────────────────┼─────────────────────────────┼─────────────────┤\n",
       "│ dense_27 (\u001b[38;5;33mDense\u001b[0m)                     │ (\u001b[38;5;45mNone\u001b[0m, \u001b[38;5;34m64\u001b[0m)                  │           \u001b[38;5;34m8,256\u001b[0m │\n",
       "├──────────────────────────────────────┼─────────────────────────────┼─────────────────┤\n",
       "│ dense_28 (\u001b[38;5;33mDense\u001b[0m)                     │ (\u001b[38;5;45mNone\u001b[0m, \u001b[38;5;34m32\u001b[0m)                  │           \u001b[38;5;34m2,080\u001b[0m │\n",
       "├──────────────────────────────────────┼─────────────────────────────┼─────────────────┤\n",
       "│ dense_29 (\u001b[38;5;33mDense\u001b[0m)                     │ (\u001b[38;5;45mNone\u001b[0m, \u001b[38;5;34m8\u001b[0m)                   │             \u001b[38;5;34m264\u001b[0m │\n",
       "└──────────────────────────────────────┴─────────────────────────────┴─────────────────┘\n"
      ]
     },
     "metadata": {},
     "output_type": "display_data"
    },
    {
     "data": {
      "text/html": [
       "<pre style=\"white-space:pre;overflow-x:auto;line-height:normal;font-family:Menlo,'DejaVu Sans Mono',consolas,'Courier New',monospace\"><span style=\"font-weight: bold\"> Total params: </span><span style=\"color: #00af00; text-decoration-color: #00af00\">610,280</span> (2.33 MB)\n",
       "</pre>\n"
      ],
      "text/plain": [
       "\u001b[1m Total params: \u001b[0m\u001b[38;5;34m610,280\u001b[0m (2.33 MB)\n"
      ]
     },
     "metadata": {},
     "output_type": "display_data"
    },
    {
     "data": {
      "text/html": [
       "<pre style=\"white-space:pre;overflow-x:auto;line-height:normal;font-family:Menlo,'DejaVu Sans Mono',consolas,'Courier New',monospace\"><span style=\"font-weight: bold\"> Trainable params: </span><span style=\"color: #00af00; text-decoration-color: #00af00\">610,280</span> (2.33 MB)\n",
       "</pre>\n"
      ],
      "text/plain": [
       "\u001b[1m Trainable params: \u001b[0m\u001b[38;5;34m610,280\u001b[0m (2.33 MB)\n"
      ]
     },
     "metadata": {},
     "output_type": "display_data"
    },
    {
     "data": {
      "text/html": [
       "<pre style=\"white-space:pre;overflow-x:auto;line-height:normal;font-family:Menlo,'DejaVu Sans Mono',consolas,'Courier New',monospace\"><span style=\"font-weight: bold\"> Non-trainable params: </span><span style=\"color: #00af00; text-decoration-color: #00af00\">0</span> (0.00 B)\n",
       "</pre>\n"
      ],
      "text/plain": [
       "\u001b[1m Non-trainable params: \u001b[0m\u001b[38;5;34m0\u001b[0m (0.00 B)\n"
      ]
     },
     "metadata": {},
     "output_type": "display_data"
    }
   ],
   "source": [
    "from tensorflow.keras import layers, Sequential, optimizers, Input, Model\n",
    "\n",
    "input_tensor = Input(shape=(8,))\n",
    "x = layers.Dense(1024, activation='relu')(input_tensor)\n",
    "y = layers.Dense(512, activation='relu')(x)\n",
    "z = layers.Dense(256, activation='relu')(y)\n",
    "z = layers.Dense(128, activation='relu')(z)\n",
    "z = layers.Dense(64, activation='relu')(z)\n",
    "z = layers.Dense(32, activation='relu')(z)\n",
    "z = layers.Dense(128, activation='relu')(y) # acyclic graghs of layers\n",
    "z = layers.Dense(64, activation='relu')(z)\n",
    "z = layers.Dense(32, activation='relu')(z)\n",
    "output_tensor = layers.Dense(8, activation='softmax')(z)\n",
    "\n",
    "model = Model(input_tensor, output_tensor)\n",
    "\n",
    "#SGD #RMSprop #Adam #Adadelta #Adagrad ##Adamax ###Nadam #Ftrl\n",
    "opt = optimizers.Nadam(learning_rate=1e-3)\n",
    "model.compile(optimizer = opt, \n",
    "              loss = \"categorical_crossentropy\",\n",
    "              metrics = [\"accuracy\"])\n",
    "\n",
    "model.summary()"
   ]
  },
  {
   "cell_type": "code",
   "execution_count": 26,
   "metadata": {
    "id": "UYxxVAP3k-Tz"
   },
   "outputs": [],
   "source": [
    "# saving model, creating log for tensorboaed and applying few callbacks\n",
    "\n",
    "def callbacks(Path, Dir):\n",
    "    import tensorflow as tf\n",
    "    import os\n",
    "\n",
    "    Filepath = Path\n",
    "    logdir = os.path.join(Filepath, Dir)\n",
    "    \n",
    "    # Ensure the directory exists\n",
    "    os.makedirs(Filepath, exist_ok=True)\n",
    "\n",
    "    callbacks_list = [\n",
    "        tf.keras.callbacks.TensorBoard(\n",
    "            log_dir=logdir,  # TensorBoard log path\n",
    "            histogram_freq=1,\n",
    "        ),\n",
    "        tf.keras.callbacks.EarlyStopping(  # Stop if not improving\n",
    "            monitor='val_accuracy',\n",
    "            patience=2,  # Monitor validation accuracy\n",
    "        ),\n",
    "        tf.keras.callbacks.ModelCheckpoint(\n",
    "            filepath=os.path.join(Filepath, \"best_model.keras\"),  # Save model path\n",
    "            monitor='val_loss',  # Only save best weights\n",
    "            save_best_only=True,\n",
    "        ),\n",
    "    ]\n",
    "    return callbacks_list"
   ]
  },
  {
   "cell_type": "code",
   "execution_count": 27,
   "metadata": {
    "id": "D_bOgY4VjwPM",
    "outputId": "d336489d-3862-47ae-857f-fe39d0454669"
   },
   "outputs": [
    {
     "name": "stdout",
     "output_type": "stream",
     "text": [
      "Epoch 1/200\n",
      "\u001b[1m5298/5298\u001b[0m \u001b[32m━━━━━━━━━━━━━━━━━━━━\u001b[0m\u001b[37m\u001b[0m \u001b[1m302s\u001b[0m 55ms/step - accuracy: 0.6433 - loss: 0.9486 - val_accuracy: 0.6494 - val_loss: 0.8858\n",
      "Epoch 2/200\n",
      "\u001b[1m5298/5298\u001b[0m \u001b[32m━━━━━━━━━━━━━━━━━━━━\u001b[0m\u001b[37m\u001b[0m \u001b[1m324s\u001b[0m 56ms/step - accuracy: 0.6498 - loss: 0.8814 - val_accuracy: 0.6535 - val_loss: 0.8685\n",
      "Epoch 3/200\n",
      "\u001b[1m5298/5298\u001b[0m \u001b[32m━━━━━━━━━━━━━━━━━━━━\u001b[0m\u001b[37m\u001b[0m \u001b[1m287s\u001b[0m 54ms/step - accuracy: 0.6565 - loss: 0.8584 - val_accuracy: 0.6622 - val_loss: 0.8407\n",
      "Epoch 4/200\n",
      "\u001b[1m5298/5298\u001b[0m \u001b[32m━━━━━━━━━━━━━━━━━━━━\u001b[0m\u001b[37m\u001b[0m \u001b[1m293s\u001b[0m 55ms/step - accuracy: 0.6677 - loss: 0.8287 - val_accuracy: 0.6757 - val_loss: 0.8119\n",
      "Epoch 5/200\n",
      "\u001b[1m5298/5298\u001b[0m \u001b[32m━━━━━━━━━━━━━━━━━━━━\u001b[0m\u001b[37m\u001b[0m \u001b[1m296s\u001b[0m 56ms/step - accuracy: 0.6820 - loss: 0.7959 - val_accuracy: 0.6891 - val_loss: 0.7823\n",
      "Epoch 6/200\n",
      "\u001b[1m5298/5298\u001b[0m \u001b[32m━━━━━━━━━━━━━━━━━━━━\u001b[0m\u001b[37m\u001b[0m \u001b[1m278s\u001b[0m 52ms/step - accuracy: 0.6979 - loss: 0.7622 - val_accuracy: 0.7056 - val_loss: 0.7520\n",
      "Epoch 7/200\n",
      "\u001b[1m5298/5298\u001b[0m \u001b[32m━━━━━━━━━━━━━━━━━━━━\u001b[0m\u001b[37m\u001b[0m \u001b[1m285s\u001b[0m 54ms/step - accuracy: 0.7129 - loss: 0.7313 - val_accuracy: 0.7172 - val_loss: 0.7270\n",
      "Epoch 8/200\n",
      "\u001b[1m5298/5298\u001b[0m \u001b[32m━━━━━━━━━━━━━━━━━━━━\u001b[0m\u001b[37m\u001b[0m \u001b[1m282s\u001b[0m 53ms/step - accuracy: 0.7275 - loss: 0.7011 - val_accuracy: 0.7315 - val_loss: 0.7013\n",
      "Epoch 9/200\n",
      "\u001b[1m5298/5298\u001b[0m \u001b[32m━━━━━━━━━━━━━━━━━━━━\u001b[0m\u001b[37m\u001b[0m \u001b[1m300s\u001b[0m 57ms/step - accuracy: 0.7406 - loss: 0.6736 - val_accuracy: 0.7408 - val_loss: 0.6792\n",
      "Epoch 10/200\n",
      "\u001b[1m5298/5298\u001b[0m \u001b[32m━━━━━━━━━━━━━━━━━━━━\u001b[0m\u001b[37m\u001b[0m \u001b[1m295s\u001b[0m 56ms/step - accuracy: 0.7515 - loss: 0.6497 - val_accuracy: 0.7494 - val_loss: 0.6627\n",
      "Epoch 11/200\n",
      "\u001b[1m5298/5298\u001b[0m \u001b[32m━━━━━━━━━━━━━━━━━━━━\u001b[0m\u001b[37m\u001b[0m \u001b[1m285s\u001b[0m 54ms/step - accuracy: 0.7617 - loss: 0.6282 - val_accuracy: 0.7605 - val_loss: 0.6416\n",
      "Epoch 12/200\n",
      "\u001b[1m5298/5298\u001b[0m \u001b[32m━━━━━━━━━━━━━━━━━━━━\u001b[0m\u001b[37m\u001b[0m \u001b[1m331s\u001b[0m 56ms/step - accuracy: 0.7717 - loss: 0.6071 - val_accuracy: 0.7684 - val_loss: 0.6247\n",
      "Epoch 13/200\n",
      "\u001b[1m5298/5298\u001b[0m \u001b[32m━━━━━━━━━━━━━━━━━━━━\u001b[0m\u001b[37m\u001b[0m \u001b[1m292s\u001b[0m 55ms/step - accuracy: 0.7794 - loss: 0.5896 - val_accuracy: 0.7751 - val_loss: 0.6148\n",
      "Epoch 14/200\n",
      "\u001b[1m5298/5298\u001b[0m \u001b[32m━━━━━━━━━━━━━━━━━━━━\u001b[0m\u001b[37m\u001b[0m \u001b[1m294s\u001b[0m 55ms/step - accuracy: 0.7879 - loss: 0.5718 - val_accuracy: 0.7844 - val_loss: 0.5933\n",
      "Epoch 15/200\n",
      "\u001b[1m5298/5298\u001b[0m \u001b[32m━━━━━━━━━━━━━━━━━━━━\u001b[0m\u001b[37m\u001b[0m \u001b[1m279s\u001b[0m 53ms/step - accuracy: 0.7950 - loss: 0.5561 - val_accuracy: 0.7882 - val_loss: 0.5832\n",
      "Epoch 16/200\n",
      "\u001b[1m5298/5298\u001b[0m \u001b[32m━━━━━━━━━━━━━━━━━━━━\u001b[0m\u001b[37m\u001b[0m \u001b[1m333s\u001b[0m 55ms/step - accuracy: 0.8011 - loss: 0.5414 - val_accuracy: 0.7924 - val_loss: 0.5750\n",
      "Epoch 17/200\n",
      "\u001b[1m5298/5298\u001b[0m \u001b[32m━━━━━━━━━━━━━━━━━━━━\u001b[0m\u001b[37m\u001b[0m \u001b[1m332s\u001b[0m 57ms/step - accuracy: 0.8073 - loss: 0.5278 - val_accuracy: 0.7982 - val_loss: 0.5624\n",
      "Epoch 18/200\n",
      "\u001b[1m5298/5298\u001b[0m \u001b[32m━━━━━━━━━━━━━━━━━━━━\u001b[0m\u001b[37m\u001b[0m \u001b[1m293s\u001b[0m 55ms/step - accuracy: 0.8125 - loss: 0.5162 - val_accuracy: 0.8056 - val_loss: 0.5497\n",
      "Epoch 19/200\n",
      "\u001b[1m5298/5298\u001b[0m \u001b[32m━━━━━━━━━━━━━━━━━━━━\u001b[0m\u001b[37m\u001b[0m \u001b[1m289s\u001b[0m 55ms/step - accuracy: 0.8173 - loss: 0.5053 - val_accuracy: 0.8104 - val_loss: 0.5399\n",
      "Epoch 20/200\n",
      "\u001b[1m5298/5298\u001b[0m \u001b[32m━━━━━━━━━━━━━━━━━━━━\u001b[0m\u001b[37m\u001b[0m \u001b[1m303s\u001b[0m 57ms/step - accuracy: 0.8222 - loss: 0.4938 - val_accuracy: 0.8126 - val_loss: 0.5350\n",
      "Epoch 21/200\n",
      "\u001b[1m5298/5298\u001b[0m \u001b[32m━━━━━━━━━━━━━━━━━━━━\u001b[0m\u001b[37m\u001b[0m \u001b[1m309s\u001b[0m 55ms/step - accuracy: 0.8264 - loss: 0.4836 - val_accuracy: 0.8179 - val_loss: 0.5232\n",
      "Epoch 22/200\n",
      "\u001b[1m5298/5298\u001b[0m \u001b[32m━━━━━━━━━━━━━━━━━━━━\u001b[0m\u001b[37m\u001b[0m \u001b[1m287s\u001b[0m 54ms/step - accuracy: 0.8299 - loss: 0.4744 - val_accuracy: 0.8233 - val_loss: 0.5155\n",
      "Epoch 23/200\n",
      "\u001b[1m5298/5298\u001b[0m \u001b[32m━━━━━━━━━━━━━━━━━━━━\u001b[0m\u001b[37m\u001b[0m \u001b[1m280s\u001b[0m 53ms/step - accuracy: 0.8338 - loss: 0.4654 - val_accuracy: 0.8256 - val_loss: 0.5095\n",
      "Epoch 24/200\n",
      "\u001b[1m5298/5298\u001b[0m \u001b[32m━━━━━━━━━━━━━━━━━━━━\u001b[0m\u001b[37m\u001b[0m \u001b[1m267s\u001b[0m 50ms/step - accuracy: 0.8375 - loss: 0.4575 - val_accuracy: 0.8254 - val_loss: 0.5060\n",
      "Epoch 25/200\n",
      "\u001b[1m5298/5298\u001b[0m \u001b[32m━━━━━━━━━━━━━━━━━━━━\u001b[0m\u001b[37m\u001b[0m \u001b[1m263s\u001b[0m 50ms/step - accuracy: 0.8410 - loss: 0.4491 - val_accuracy: 0.8285 - val_loss: 0.4991\n",
      "Epoch 26/200\n",
      "\u001b[1m5298/5298\u001b[0m \u001b[32m━━━━━━━━━━━━━━━━━━━━\u001b[0m\u001b[37m\u001b[0m \u001b[1m279s\u001b[0m 53ms/step - accuracy: 0.8439 - loss: 0.4418 - val_accuracy: 0.8339 - val_loss: 0.4879\n",
      "Epoch 27/200\n",
      "\u001b[1m5298/5298\u001b[0m \u001b[32m━━━━━━━━━━━━━━━━━━━━\u001b[0m\u001b[37m\u001b[0m \u001b[1m293s\u001b[0m 55ms/step - accuracy: 0.8472 - loss: 0.4329 - val_accuracy: 0.8367 - val_loss: 0.4815\n",
      "Epoch 28/200\n",
      "\u001b[1m5298/5298\u001b[0m \u001b[32m━━━━━━━━━━━━━━━━━━━━\u001b[0m\u001b[37m\u001b[0m \u001b[1m295s\u001b[0m 56ms/step - accuracy: 0.8496 - loss: 0.4270 - val_accuracy: 0.8376 - val_loss: 0.4817\n",
      "Epoch 29/200\n",
      "\u001b[1m5298/5298\u001b[0m \u001b[32m━━━━━━━━━━━━━━━━━━━━\u001b[0m\u001b[37m\u001b[0m \u001b[1m324s\u001b[0m 56ms/step - accuracy: 0.8523 - loss: 0.4202 - val_accuracy: 0.8405 - val_loss: 0.4746\n",
      "Epoch 30/200\n",
      "\u001b[1m5298/5298\u001b[0m \u001b[32m━━━━━━━━━━━━━━━━━━━━\u001b[0m\u001b[37m\u001b[0m \u001b[1m306s\u001b[0m 53ms/step - accuracy: 0.8552 - loss: 0.4128 - val_accuracy: 0.8437 - val_loss: 0.4686\n",
      "Epoch 31/200\n",
      "\u001b[1m5298/5298\u001b[0m \u001b[32m━━━━━━━━━━━━━━━━━━━━\u001b[0m\u001b[37m\u001b[0m \u001b[1m283s\u001b[0m 53ms/step - accuracy: 0.8575 - loss: 0.4078 - val_accuracy: 0.8451 - val_loss: 0.4677\n",
      "Epoch 32/200\n",
      "\u001b[1m5298/5298\u001b[0m \u001b[32m━━━━━━━━━━━━━━━━━━━━\u001b[0m\u001b[37m\u001b[0m \u001b[1m290s\u001b[0m 55ms/step - accuracy: 0.8598 - loss: 0.4022 - val_accuracy: 0.8488 - val_loss: 0.4562\n",
      "Epoch 33/200\n",
      "\u001b[1m5298/5298\u001b[0m \u001b[32m━━━━━━━━━━━━━━━━━━━━\u001b[0m\u001b[37m\u001b[0m \u001b[1m295s\u001b[0m 56ms/step - accuracy: 0.8617 - loss: 0.3963 - val_accuracy: 0.8500 - val_loss: 0.4540\n",
      "Epoch 34/200\n",
      "\u001b[1m5298/5298\u001b[0m \u001b[32m━━━━━━━━━━━━━━━━━━━━\u001b[0m\u001b[37m\u001b[0m \u001b[1m314s\u001b[0m 59ms/step - accuracy: 0.8642 - loss: 0.3906 - val_accuracy: 0.8499 - val_loss: 0.4538\n",
      "Epoch 35/200\n",
      "\u001b[1m5298/5298\u001b[0m \u001b[32m━━━━━━━━━━━━━━━━━━━━\u001b[0m\u001b[37m\u001b[0m \u001b[1m296s\u001b[0m 56ms/step - accuracy: 0.8665 - loss: 0.3847 - val_accuracy: 0.8507 - val_loss: 0.4529\n",
      "Epoch 36/200\n",
      "\u001b[1m5298/5298\u001b[0m \u001b[32m━━━━━━━━━━━━━━━━━━━━\u001b[0m\u001b[37m\u001b[0m \u001b[1m312s\u001b[0m 54ms/step - accuracy: 0.8679 - loss: 0.3814 - val_accuracy: 0.8574 - val_loss: 0.4378\n",
      "Epoch 37/200\n",
      "\u001b[1m5298/5298\u001b[0m \u001b[32m━━━━━━━━━━━━━━━━━━━━\u001b[0m\u001b[37m\u001b[0m \u001b[1m301s\u001b[0m 57ms/step - accuracy: 0.8703 - loss: 0.3761 - val_accuracy: 0.8607 - val_loss: 0.4309\n",
      "Epoch 38/200\n",
      "\u001b[1m5298/5298\u001b[0m \u001b[32m━━━━━━━━━━━━━━━━━━━━\u001b[0m\u001b[37m\u001b[0m \u001b[1m285s\u001b[0m 54ms/step - accuracy: 0.8713 - loss: 0.3719 - val_accuracy: 0.8595 - val_loss: 0.4347\n",
      "Epoch 39/200\n",
      "\u001b[1m5298/5298\u001b[0m \u001b[32m━━━━━━━━━━━━━━━━━━━━\u001b[0m\u001b[37m\u001b[0m \u001b[1m289s\u001b[0m 54ms/step - accuracy: 0.8737 - loss: 0.3664 - val_accuracy: 0.8574 - val_loss: 0.4377\n"
     ]
    },
    {
     "data": {
      "image/png": "[encoded data removed]",
      "text/plain": [
       "<Figure size 640x480 with 1 Axes>"
      ]
     },
     "metadata": {},
     "output_type": "display_data"
    },
    {
     "data": {
      "image/png": "[encoded data removed]",
      "text/plain": [
       "<Figure size 640x480 with 1 Axes>"
      ]
     },
     "metadata": {},
     "output_type": "display_data"
    }
   ],
   "source": [
    "Path = \"model1\"\n",
    "Dir = \"my_log_dir\"   \n",
    "Call_B_Fun = callbacks(Path,Dir)\n",
    "\n",
    "batch_size = 512            \n",
    "epochs = 200                \n",
    "\n",
    "history = model.fit(x_train, y_train,\n",
    "                    batch_size=batch_size, epochs = epochs,\n",
    "                    validation_split = 0.2, callbacks=Call_B_Fun)\n",
    "\n",
    "loss = history.history['loss']\n",
    "val_loss = history.history['val_loss']\n",
    "acc = history.history['accuracy']\n",
    "val_acc = history.history['val_accuracy']\n",
    "plot(loss,val_loss,acc,val_acc)"
   ]
  },
  {
   "cell_type": "code",
   "execution_count": 19,
   "metadata": {
    "id": "R6uaEyPFjwSg"
   },
   "outputs": [],
   "source": [
    "# saving our model\n",
    "model.save('model1/emg_1.keras')"
   ]
  },
  {
   "cell_type": "code",
   "execution_count": null,
   "metadata": {
    "id": "CDCBgOIjs8_m"
   },
   "outputs": [],
   "source": [
    "#################"
   ]
  },
  {
   "cell_type": "code",
   "execution_count": null,
   "metadata": {
    "id": "IQSvDxmljwYb",
    "outputId": "38c295d5-5355-4380-871e-48f1a4c3142d"
   },
   "outputs": [],
   "source": [
    "# loading saved model\n",
    "from tensorflow.keras.models import load_model\n",
    "emg = 'model1/emg_1.h5'\n",
    "emg_model = load_model(emg)\n",
    "#emg_model.summary()"
   ]
  },
  {
   "cell_type": "code",
   "execution_count": null,
   "metadata": {
    "id": "Oya7H1NvvYjH",
    "outputId": "cbb86a39-0c93-4acc-eeb8-6a1f1af1a477"
   },
   "outputs": [],
   "source": [
    "# Removing layers\n",
    "\n",
    "new_model = Model(emg_model.inputs, emg_model.layers[-2].output) # removing layers\n",
    "new_model.summary()\n",
    "# removed all layers except conv"
   ]
  },
  {
   "cell_type": "code",
   "execution_count": null,
   "metadata": {
    "id": "6tprWYHNr7nQ",
    "outputId": "84c11a25-be80-4a89-aa2b-a8238342c60a"
   },
   "outputs": [],
   "source": [
    "from tensorflow.keras import layers, optimizers, Input, Model\n",
    "\n",
    "input_tensor = Input(shape=(8,))\n",
    "x = new_model(input_tensor)       # this is our old model\n",
    "#z = layers.Dense(256, activation='relu')(x)\n",
    "output_tensor = layers.Dense(8, activation='softmax')(x)\n",
    "\n",
    "model = Model(input_tensor, output_tensor)\n",
    "\n",
    "#SGD #RMSprop #Adam #Adadelta #Adagrad ##Adamax ###Nadam #Ftrl\n",
    "opt = optimizers.Nadam(lr=1e-3)\n",
    "model.compile(optimizer = opt, \n",
    "              loss = \"categorical_crossentropy\",\n",
    "              metrics = [\"accuracy\"])\n",
    "\n",
    "model.summary()"
   ]
  },
  {
   "cell_type": "code",
   "execution_count": null,
   "metadata": {
    "id": "MilDJe_1vJ8p"
   },
   "outputs": [],
   "source": [
    "def callbacks(Log,Dir):\n",
    "  import tensorflow as tf\n",
    "  import os\n",
    "\n",
    "  Filepath = Path\n",
    "  logdir = os.path.join(Filepath, Dir)\n",
    "  \n",
    "  callbacks_list = [tf.keras.callbacks.TensorBoard(\n",
    "                    log_dir=logdir,                 #  tensorboard log path      \n",
    "                    histogram_freq=1,),\n",
    "                    tf.keras.callbacks.EarlyStopping(   # stop if not improving\n",
    "                    monitor='val_loss',patience=2,),           # monitor validation loss\n",
    "                    tf.keras.callbacks.ReduceLROnPlateau(\n",
    "                    monitor='val_loss',factor=0.1,         # lr ko .1 se multiply kerdo (kam kerdo)\n",
    "                    patience=10,),                # reduce the lrate if val loss stop improving\n",
    "                    tf.keras.callbacks.ModelCheckpoint(\n",
    "                    filepath= Filepath,             # save model path\n",
    "                    monitor='val_loss',             # only save best weights\n",
    "                    save_best_only=True,)]\n",
    "  return callbacks_list"
   ]
  },
  {
   "cell_type": "code",
   "execution_count": null,
   "metadata": {
    "id": "JqzpvSCAv46r",
    "outputId": "9300bb8b-1532-489b-b2f5-2de62348a12e"
   },
   "outputs": [],
   "source": [
    "Path = \"model2\"\n",
    "Dir = \"my_log_dir\"   \n",
    "Call_B_Fun = callbacks(Path,Dir)\n",
    "\n",
    "batch_size = 512            \n",
    "epochs = 200                \n",
    "\n",
    "history = model.fit(x_train, y_train,\n",
    "                    batch_size=batch_size, epochs = epochs,\n",
    "                    validation_split = 0.2, callbacks=Call_B_Fun)\n",
    "\n",
    "loss = history.history['loss']\n",
    "val_loss = history.history['val_loss']\n",
    "acc = history.history['accuracy']\n",
    "val_acc = history.history['val_accuracy']\n",
    "plot(loss,val_loss,acc,val_acc)"
   ]
  },
  {
   "cell_type": "code",
   "execution_count": null,
   "metadata": {
    "id": "G-RL82Bsv5AB"
   },
   "outputs": [],
   "source": [
    "# saving our model\n",
    "model.save('model2/emg_2.h5')"
   ]
  },
  {
   "cell_type": "code",
   "execution_count": null,
   "metadata": {
    "id": "G-bk9G7Qv5Gz"
   },
   "outputs": [],
   "source": [
    "###################"
   ]
  },
  {
   "cell_type": "code",
   "execution_count": null,
   "metadata": {
    "id": "hX-JbgrQv5EW"
   },
   "outputs": [],
   "source": [
    "# loading saved model\n",
    "from tensorflow.keras.models import load_model\n",
    "emg = 'model2/emg_2.h5'\n",
    "emg_model = load_model(emg)\n",
    "#emg_model.summary()"
   ]
  },
  {
   "cell_type": "code",
   "execution_count": null,
   "metadata": {
    "id": "9cFdvNaH0gss"
   },
   "outputs": [],
   "source": [
    "from tensorflow.keras import layers, Sequential, optimizers, Input, Model\n",
    "\n",
    "input_tensor = Input(shape=(8,))\n",
    "x = layers.Dense(1024, activation='relu')(input_tensor)\n",
    "y = layers.Dense(512, activation='relu')(x)\n",
    "z = layers.Dense(256, activation='relu')(y)\n",
    "z = layers.Dense(128, activation='relu')(z)\n",
    "z = layers.Dense(64, activation='relu')(z)\n",
    "z = layers.Dense(32, activation='relu')(z)\n",
    "z = layers.Dense(128, activation='relu')(y) # acyclic graghs of layers\n",
    "z = layers.Dense(64, activation='relu')(z)\n",
    "z = layers.Dense(32, activation='relu')(z)\n",
    "output_tensor = layers.Dense(8, activation='softmax')(z)\n",
    "\n",
    "model = Model(input_tensor, output_tensor)\n",
    "\n",
    "opt = optimizers.Nadam(lr=1e-3)\n",
    "model.compile(optimizer = opt, \n",
    "              loss = \"categorical_crossentropy\",\n",
    "              metrics = [\"accuracy\"])\n",
    "\n",
    "model.set_weights(emg_model.get_weights())   # using pretrained model weights\n",
    "\n",
    "#model.summary()"
   ]
  },
  {
   "cell_type": "code",
   "execution_count": null,
   "metadata": {
    "id": "jjPuVpgsv4-L",
    "outputId": "83047a16-c2b7-436c-a4d5-bae13b47486c"
   },
   "outputs": [],
   "source": [
    "callbacks_list = [tf.keras.callbacks.EarlyStopping(   # stop if not improving\n",
    "                monitor='acc',patience=5,),           # monitor validation accuracy\n",
    "                tf.keras.callbacks.ModelCheckpoint(\n",
    "                filepath='my_model.h5',\n",
    "                monitor='val_loss',                   # only save best weights\n",
    "                save_best_only=True,)]                # when vall loss is improved\n",
    "\n",
    "batch_size = 512           \n",
    "epochs = 15                \n",
    "\n",
    "history = model.fit(x_train, y_train,\n",
    "                    batch_size=batch_size, epochs = epochs,\n",
    "                    validation_split = 0.2,\n",
    "                    callbacks=callbacks_list)"
   ]
  },
  {
   "cell_type": "code",
   "execution_count": null,
   "metadata": {
    "id": "oiH8gtt_0aSS"
   },
   "outputs": [],
   "source": [
    "model.save('emg_3.h5')"
   ]
  },
  {
   "cell_type": "code",
   "execution_count": null,
   "metadata": {
    "id": "vszuFL6P0aP6",
    "outputId": "947157d0-7039-4f65-f273-25bf71e520e1"
   },
   "outputs": [],
   "source": [
    "loss = history.history['loss']\n",
    "val_loss = history.history['val_loss']\n",
    "acc = history.history['accuracy']\n",
    "val_acc = history.history['val_accuracy']\n",
    "plot(loss,val_loss,acc,val_acc)"
   ]
  },
  {
   "cell_type": "code",
   "execution_count": null,
   "metadata": {
    "id": "Yhwxry0m6S3z",
    "outputId": "5b61770e-9b51-4ec2-8315-40cb0b29564c"
   },
   "outputs": [],
   "source": [
    "evaluation = model.evaluate(x_test,  y_test,batch_size=batch_size, verbose=2)\n",
    "print()\n",
    "print(\"Test loss :\",evaluation[0]*100,\"%\")\n",
    "print(\"Test accuracy :\",evaluation[1]*100,\"%\")"
   ]
  },
  {
   "cell_type": "markdown",
   "metadata": {
    "id": "awiJTiJLnbRQ"
   },
   "source": [
    "### Prediction"
   ]
  },
  {
   "cell_type": "code",
   "execution_count": null,
   "metadata": {
    "id": "b0P5TPuki26a",
    "outputId": "5bb62742-ff13-4ba4-aefb-d86a428fd1e1"
   },
   "outputs": [],
   "source": [
    "predict = 105\n",
    "a = np.argmax(model.predict(x_test)[predict])\n",
    "print(\"Predicted Class: \",a)\n",
    "print(\"Actual Class: \",np.argmax(y_test[predict]))"
   ]
  },
  {
   "cell_type": "code",
   "execution_count": null,
   "metadata": {
    "id": "AgUKgBXomszP"
   },
   "outputs": [],
   "source": []
  }
 ],
 "metadata": {
  "kernelspec": {
   "display_name": "glaucoma_env",
   "language": "python",
   "name": "glaucoma_env"
  },
  "language_info": {
   "codemirror_mode": {
    "name": "ipython",
    "version": 3
   },
   "file_extension": ".py",
   "mimetype": "text/x-python",
   "name": "python",
   "nbconvert_exporter": "python",
   "pygments_lexer": "ipython3",
   "version": "3.10.11"
  }
 },
 "nbformat": 4,
 "nbformat_minor": 4
}
